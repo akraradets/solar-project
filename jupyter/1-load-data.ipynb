{
 "cells": [
  {
   "cell_type": "markdown",
   "metadata": {},
   "source": [
    "## Todo\n",
    "\n",
    "- [x] Use `test_image.tif` and `solar_shapfile_test.shp` as input\n",
    "- [x] Create mask image from both inputs\n",
    "  - [x] Check the rasterized mask image\n",
    "- [x] tiling on both `test_image.tif` and `rasterized_mask` for Segmentation task\n",
    "- [ ] Train U-Net model with `segmentation_models` library\n",
    "  - [ ] Build Docker image for training"
   ]
  },
  {
   "cell_type": "code",
   "execution_count": 13,
   "metadata": {},
   "outputs": [],
   "source": [
    "import rioxarray\n",
    "import geopandas as gpd\n",
    "import shapely as shp\n",
    "import rasterio\n",
    "from geo_rasterizer import rasterize\n",
    "import os\n",
    "import xarray as xr\n",
    "\n",
    "import asyncio"
   ]
  },
  {
   "cell_type": "code",
   "execution_count": 2,
   "metadata": {},
   "outputs": [],
   "source": [
    "from tqdm.notebook import tqdm"
   ]
  },
  {
   "cell_type": "code",
   "execution_count": 3,
   "metadata": {},
   "outputs": [],
   "source": [
    "image_path = \"../data/Sample1/image/test_image.tif\"\n",
    "shape_path = \"../data/Sample1/shapefile/solar_shapefile_test.shp\"\n",
    "mask_path = \"../data/Sample1/mask/mask.tif\""
   ]
  },
  {
   "cell_type": "code",
   "execution_count": 2,
   "metadata": {},
   "outputs": [],
   "source": [
    "def create_mask(image_path:str, shape_path:str, output_path:str):\n",
    "    # Load shape\n",
    "    if(os.path.exists(shape_path) == False):\n",
    "        raise FileExistsError(f\"{shape_path=} is not exist\")\n",
    "    if(os.path.exists(image_path) == False):\n",
    "        raise FileExistsError(f\"{image_path=} is not exist\")\n",
    "    \n",
    "    shape = gpd.read_file(shape_path)\n",
    "\n",
    "    # Load DatasetReader\n",
    "    ds_reader = rasterio.open(image_path)\n",
    "    # create raster mask image\n",
    "    mask = rasterize(shape, ds_reader)\n",
    "    del(ds_reader)\n",
    "    del(shape)\n",
    "    \n",
    "    # Save mask.tif\n",
    "    image = rioxarray.open_rasterio(image_path)\n",
    "    ds = xr.Dataset({\n",
    "        'mask':xr.DataArray(\n",
    "            data=mask,\n",
    "            dims = ['latitude','longitude'],\n",
    "            coords = {'latitude': image.y.values ,'longitude':image.x.values}\n",
    "        )\n",
    "    })\n",
    "    ds.rio.write_crs('epsg:32647', inplace=True)\n",
    "    ds.rio.to_raster(output_path, compress='LZW')\n",
    "    del(mask)\n",
    "    del(ds)\n",
    "    del(image)\n",
    "\n",
    "create_mask(image_path=image_path, shape_path=shape_path, output_path=mask_path)"
   ]
  },
  {
   "cell_type": "code",
   "execution_count": 19,
   "metadata": {},
   "outputs": [
    {
     "data": {
      "application/vnd.jupyter.widget-view+json": {
       "model_id": "63fa88d7f3224900ac345a3163f492fa",
       "version_major": 2,
       "version_minor": 0
      },
      "text/plain": [
       "  0%|          | 0/137 [00:00<?, ?it/s]"
      ]
     },
     "metadata": {},
     "output_type": "display_data"
    }
   ],
   "source": [
    "# Tiling with 512 x 512 window size\n",
    "\n",
    "def create_tile(image_path:str, mask_path:str, tile_size:int):\n",
    "    if(os.path.exists(image_path) == False):\n",
    "        raise FileExistsError(f\"{image_path=} is not exist\")\n",
    "    if(os.path.exists(mask_path) == False):\n",
    "        raise FileExistsError(f\"{mask_path=} is not exist\")\n",
    "    \n",
    "    if(tile_size % 32 != 0):\n",
    "        raise ValueError(f\"U-Net tile size should devisible by 32 but got {tile_size=}\")\n",
    "\n",
    "    image = rioxarray.open_rasterio(image_path)\n",
    "    mask = rioxarray.open_rasterio(mask_path)\n",
    "\n",
    "    \n",
    "\n",
    "    for index_y in tqdm(range(0,len(image.y),512)):\n",
    "        for index_x in range(0,len(image.x),512):\n",
    "            image_tile = image[:, index_y:index_y+tile_size , index_x:index_x+tile_size ]\n",
    "            mask_tile = mask[:, index_y:index_y+tile_size , index_x:index_x+tile_size ]\n",
    "            image_tile.rio.to_raster(f\"../data/Sample1_tile/image/image_{index_y}_{index_x}.tif\")\n",
    "            mask_tile.rio.to_raster(f\"../data/Sample1_tile/mask/mask_{index_y}_{index_x}.tif\")\n",
    "    del(image)\n",
    "    del(mask)\n",
    "    del(image_tile)\n",
    "    del(mask_tile)\n",
    "\n",
    "create_tile(image_path=image_path, mask_path=mask_path, tile_size=512)"
   ]
  },
  {
   "cell_type": "code",
   "execution_count": null,
   "metadata": {},
   "outputs": [],
   "source": []
  }
 ],
 "metadata": {
  "kernelspec": {
   "display_name": ".venv",
   "language": "python",
   "name": "python3"
  },
  "language_info": {
   "codemirror_mode": {
    "name": "ipython",
    "version": 3
   },
   "file_extension": ".py",
   "mimetype": "text/x-python",
   "name": "python",
   "nbconvert_exporter": "python",
   "pygments_lexer": "ipython3",
   "version": "3.10.12"
  }
 },
 "nbformat": 4,
 "nbformat_minor": 2
}
